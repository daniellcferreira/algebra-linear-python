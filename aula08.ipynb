{
 "cells": [
  {
   "cell_type": "code",
   "execution_count": 1,
   "metadata": {},
   "outputs": [],
   "source": [
    "# Produto escalar\n",
    "import numpy as np"
   ]
  },
  {
   "cell_type": "code",
   "execution_count": 2,
   "metadata": {},
   "outputs": [
    {
     "data": {
      "text/plain": [
       "42"
      ]
     },
     "execution_count": 2,
     "metadata": {},
     "output_type": "execute_result"
    }
   ],
   "source": [
    "# base canonica\n",
    "e1 = np.array([1, 0])\n",
    "e2 = np.array([0, 1])\n",
    "\n",
    "# componentes dos vetores\n",
    "v1, v2 = (4, 6)\n",
    "w1, w2 = (3, 5)\n",
    "\n",
    "# vetores expandidos na base canonica\n",
    "v = v1*e1 + v2*e2\n",
    "w = w1*e1 + w2*e2\n",
    "\n",
    "# produto escalar, diretamente\n",
    "(v*w).sum()"
   ]
  },
  {
   "cell_type": "code",
   "execution_count": 4,
   "metadata": {},
   "outputs": [],
   "source": [
    "# produto escalar, com função np.dot()\n",
    "v_dot_w = np.dot(v, w)"
   ]
  },
  {
   "cell_type": "code",
   "execution_count": 5,
   "metadata": {},
   "outputs": [
    {
     "name": "stdout",
     "output_type": "stream",
     "text": [
      "Angulo em radianos: 0.05 rad\n",
      "\n",
      "Angulo em graus: 2.73°\n"
     ]
    }
   ],
   "source": [
    "# normas dos vetores\n",
    "norm_v = np.linalg.norm(v)\n",
    "norm_w = np.linalg.norm(w)\n",
    "\n",
    "# angulo entre os vetores\n",
    "theta = np.arccos(v_dot_w/(norm_v*norm_w))\n",
    "\n",
    "print(f'Angulo em radianos: {theta:.2f} rad\\n')\n",
    "\n",
    "# convertendo angulo para graus\n",
    "\n",
    "print(f'Angulo em graus: {np.degrees(theta):.2f}°')\n"
   ]
  },
  {
   "cell_type": "code",
   "execution_count": null,
   "metadata": {},
   "outputs": [],
   "source": []
  }
 ],
 "metadata": {
  "kernelspec": {
   "display_name": "Python 3",
   "language": "python",
   "name": "python3"
  },
  "language_info": {
   "codemirror_mode": {
    "name": "ipython",
    "version": 3
   },
   "file_extension": ".py",
   "mimetype": "text/x-python",
   "name": "python",
   "nbconvert_exporter": "python",
   "pygments_lexer": "ipython3",
   "version": "3.12.2"
  }
 },
 "nbformat": 4,
 "nbformat_minor": 2
}
