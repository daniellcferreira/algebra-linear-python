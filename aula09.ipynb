{
 "cells": [
  {
   "cell_type": "code",
   "execution_count": 1,
   "metadata": {},
   "outputs": [],
   "source": [
    "# produto vetorial\n",
    "import numpy as np"
   ]
  },
  {
   "cell_type": "code",
   "execution_count": 5,
   "metadata": {},
   "outputs": [],
   "source": [
    "# função retorna a norma de um vetor no R^3\n",
    "def calc_norm_3d(v, e1 = np.array([1, 0, 0]), e2 = np.array([0, 1, 0]), e3 = np.array([0, 0, 1])):\n",
    "\n",
    "    v1, v2, v3, = v\n",
    "\n",
    "    v = v1*e1 + v2*e2 + v3*e3\n",
    "\n",
    "    norm = np.linalg.norm(v)\n",
    "\n",
    "    return norm\n",
    "\n",
    "\n",
    "def calc_ang_3d(v, w, e1 = np.array([1, 0, 0]), e2 = np.array([0, 1, 0]), e3 = np.array([0, 0, 1]), print_stuff = True):\n",
    "\n",
    "    v1, v2, v3, = v\n",
    "    w1, w2, w3, = w\n",
    "\n",
    "    v = v1*e1 + v2*e2 + v3*e3\n",
    "    w = w1*e1 + w2*e2 + w3*e3\n",
    "\n",
    "    norm_v = calc_norm_3d(v, e1, e2, e3)\n",
    "    norm_w = calc_norm_3d(w, e1, e2, e3)\n",
    "\n",
    "    v_dot_w = np.dot(v, w)\n",
    "\n",
    "    theta = np.arccos(v_dot_w/(norm_v*norm_w))\n",
    "\n",
    "    if print_stuff:\n",
    "        print(f'angulo em radianos: {theta:.2f} rad\\n')\n",
    "\n",
    "        print(f'angulo em graus: {np.degrees(theta):.2f}°')\n",
    "\n",
    "    return theta\n",
    "\n",
    "# função que retorna a norma do produto vetorial entre dois vetores no R^3\n",
    "\n",
    "def norm_prod_vet(v, w, e1 = np.array([1, 0, 0]), e2 = np.array([0, 1, 0]), e3 = np.array([0, 0, 1])):\n",
    "\n",
    "    norm_v = calc_norm_3d(v, e1, e2, e3)\n",
    "    norm_w = calc_norm_3d(w, e1, e2, e3)\n",
    "\n",
    "    theta = calc_ang_3d(v, w, e1, e2, e3)\n",
    "\n",
    "    norm_pv = norm_v*norm_w*np.abs(np.sin(theta))\n",
    "\n",
    "    return norm_pv\n",
    "\n",
    "def calc_prod_vet(v, w, e1 = np.array([1, 0, 0]), e2 = np.array([0, 1, 0]), e3 = np.array([0, 0, 1])):\n",
    "\n",
    "    v1, v2, v3, = v\n",
    "    w1, w2, w3, = w\n",
    "\n",
    "    c1 = v2*w3 - v3*w2\n",
    "    c2 = v3*w1 - v1*w3\n",
    "    c3 = v1*w2 - v2*w1\n",
    "\n",
    "    c = np.array([c1, c2, c3])\n",
    "\n",
    "    return c"
   ]
  },
  {
   "cell_type": "code",
   "execution_count": 6,
   "metadata": {},
   "outputs": [
    {
     "name": "stdout",
     "output_type": "stream",
     "text": [
      "angulo em radianos: 1.57 rad\n",
      "\n",
      "angulo em graus: 90.00°\n"
     ]
    },
    {
     "data": {
      "text/plain": [
       "8.0"
      ]
     },
     "execution_count": 6,
     "metadata": {},
     "output_type": "execute_result"
    }
   ],
   "source": [
    "norm_prod_vet(v=(0, 0, 2), w=(0, 4, 0))"
   ]
  },
  {
   "cell_type": "code",
   "execution_count": 8,
   "metadata": {},
   "outputs": [
    {
     "name": "stdout",
     "output_type": "stream",
     "text": [
      "angulo em radianos: 0.00 rad\n",
      "\n",
      "angulo em graus: 0.00°\n"
     ]
    },
    {
     "data": {
      "text/plain": [
       "0.0"
      ]
     },
     "execution_count": 8,
     "metadata": {},
     "output_type": "execute_result"
    }
   ],
   "source": [
    "norm_prod_vet(v=(0, 0, 2), w=(0, 0, 1))"
   ]
  },
  {
   "cell_type": "code",
   "execution_count": null,
   "metadata": {},
   "outputs": [],
   "source": []
  }
 ],
 "metadata": {
  "kernelspec": {
   "display_name": "Python 3",
   "language": "python",
   "name": "python3"
  },
  "language_info": {
   "codemirror_mode": {
    "name": "ipython",
    "version": 3
   },
   "file_extension": ".py",
   "mimetype": "text/x-python",
   "name": "python",
   "nbconvert_exporter": "python",
   "pygments_lexer": "ipython3",
   "version": "3.12.2"
  }
 },
 "nbformat": 4,
 "nbformat_minor": 2
}
